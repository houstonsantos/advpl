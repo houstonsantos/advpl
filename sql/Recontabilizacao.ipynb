{
 "cells": [
  {
   "cell_type": "code",
   "execution_count": null,
   "metadata": {},
   "outputs": [],
   "source": [
    "## RE-CONTABILIZAR A PAGAR\n",
    "\n",
    "SELECT * FROM SE2010 \n",
    "WHERE\n",
    "\tE2_FILIAL = '02' \t  AND \n",
    "\tE2_ORIGEM = 'MATA100' AND \n",
    "\tE2_BAIXA = '20151110';  "
   ]
  },
  {
   "cell_type": "code",
   "execution_count": null,
   "metadata": {},
   "outputs": [],
   "source": [
    "UPDATE SE2020 \n",
    "SET \n",
    "\tE2_LA = '' \n",
    "WHERE \n",
    "\tE2_FILIAL = '02' \t  AND \n",
    "\tE2_ORIGEM = 'MATA100' AND \n",
    "\tE2_BAIXA = '20151110' AND \n",
    "\tD_E_L_E_T_ <> '*';"
   ]
  },
  {
   "cell_type": "code",
   "execution_count": null,
   "metadata": {},
   "outputs": [],
   "source": [
    "## RE-CONTABILIZAR A RECEBER\n",
    "\n",
    "SELECT * FROM SE1010 \n",
    "WHERE\n",
    "\tE1_FILIAL = '02' \t  AND \n",
    "\tE1_ORIGEM = 'MATA100' AND \n",
    "\tE1_BAIXA = '20151110'; "
   ]
  },
  {
   "cell_type": "code",
   "execution_count": null,
   "metadata": {},
   "outputs": [],
   "source": [
    "UPDATE SE1020 \n",
    "SET \n",
    "\tE1_LA = '' \n",
    "WHERE \n",
    "\tE1_FILIAL = '02' \t  AND \n",
    "\tE1_ORIGEM = 'MATA100' AND \n",
    "\tE1_BAIXA = '20151110' AND \n",
    "\tD_E_L_E_T_ <> '*';"
   ]
  },
  {
   "cell_type": "code",
   "execution_count": null,
   "metadata": {},
   "outputs": [],
   "source": [
    "## RE-CONTABILIZAR CHEQUES\n",
    "\n",
    "SELECT * FROM SEF020\n",
    "WHERE\n",
    "\tEF_FILIAL = '02' AND\n",
    "\tEF_BANCO = '237' AND\n",
    "\tEF_NUM = '2222';"
   ]
  },
  {
   "cell_type": "code",
   "execution_count": null,
   "metadata": {},
   "outputs": [],
   "source": [
    "UPDATE SEF020\n",
    "SET\n",
    "\tEF_LA = ''\n",
    "WHERE\t\n",
    "\tEF_FILIAL = '02' AND\n",
    "\tEF_BANCO = '237' AND\n",
    "\tEF_NUM = '2222'  AND\n",
    "\tD_E_L_E_T_ <> '*';"
   ]
  },
  {
   "cell_type": "code",
   "execution_count": null,
   "metadata": {},
   "outputs": [],
   "source": [
    "## RE-CONTABILIZAR FOLHA  \n",
    "## Buscar os registros referente ao lote 008890 ou a rotina GPEM110 na CT2\n",
    "\n",
    "SELECT * FROM CT2010 \n",
    "WHERE \n",
    "\tCT2_LOTE = '008890' AND\n",
    "\tCT2_ROTINA = 'GPEM110' AND\n",
    "\tCT2_DATA BETWEEN 20160101 AND 20160131;\n",
    "\t\n",
    "## Limpar resumo de folha SRZ e CT2"
   ]
  }
 ],
 "metadata": {
  "interpreter": {
   "hash": "470d0fe7ebe4f8a8ecd9e540d17638c94bda873fc71e31f3382307ddb6aa9f0d"
  },
  "kernelspec": {
   "display_name": "Python 3.8.2 64-bit ('venv': venv)",
   "name": "python3"
  },
  "language_info": {
   "name": "python",
   "version": ""
  },
  "orig_nbformat": 4
 },
 "nbformat": 4,
 "nbformat_minor": 2
}