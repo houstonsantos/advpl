{
    "metadata": {
        "kernelspec": {
            "name": "SQL",
            "display_name": "SQL",
            "language": "sql"
        },
        "language_info": {
            "name": "sql",
            "version": ""
        }
    },
    "nbformat_minor": 2,
    "nbformat": 4,
    "cells": [
        {
            "cell_type": "markdown",
            "source": [
                "<span style=\"color: #608b4e;\"># LANÇAMENTOS PADRONIZADOS</span>\n",
                "\n",
                "<span style=\"color: #608b4e;\">## COMPRAS</span>"
            ],
            "metadata": {
                "azdata_cell_guid": "ffbc915e-2c78-45f3-8c46-fc24b1d08ecf"
            }
        },
        {
            "cell_type": "code",
            "source": [
                "SELECT * FROM CT5010 \n",
                "WHERE CT5_LANPAD IN ('640','641','642','650','651','652','655','656','657','660','661','665','950','955') AND D_E_L_E_T_ <> '*'\n",
                "ORDER BY 2, 3;"
            ],
            "metadata": {
                "azdata_cell_guid": "bc0e13fa-c965-4788-9a2b-e47f28280788"
            },
            "outputs": [],
            "execution_count": null
        },
        {
            "cell_type": "markdown",
            "source": [
                "<span style=\"color: #608b4e;\">## FATURAMENTO</span>"
            ],
            "metadata": {
                "azdata_cell_guid": "5b31f723-cced-42b5-9dc0-797ba520d75f"
            }
        },
        {
            "cell_type": "code",
            "source": [
                "SELECT * FROM CT5010 \n",
                "WHERE CT5_LANPAD IN ('610','613','620','630','633','635') AND D_E_L_E_T_ <> '*'\n",
                "ORDER BY 2, 3;"
            ],
            "metadata": {
                "azdata_cell_guid": "0944be2c-e993-4383-b504-2ba208d578de"
            },
            "outputs": [],
            "execution_count": null
        }
    ]
}