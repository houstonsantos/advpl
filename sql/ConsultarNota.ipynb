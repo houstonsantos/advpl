{
    "cells": [
        {
            "cell_type": "markdown",
            "metadata": {
                "azdata_cell_guid": "9eb931bb-e378-4cf7-9395-4668101e2645"
            },
            "source": [
                "<span style=\"color: #608b4e;\">## CONSULTAR NOTA DE ENTRADA</span>"
            ]
        },
        {
            "cell_type": "code",
            "execution_count": null,
            "metadata": {
                "azdata_cell_guid": "9db74c11-90c4-4264-82df-1754d08edb90"
            },
            "outputs": [],
            "source": [
                "USE PRODUCAO\n",
                "DECLARE @NOTA VARCHAR(9), @FILIAL VARCHAR(2), @CHAVE VARCHAR(44);;\n",
                "SET @NOTA   = '000012746';\n",
                "SET @FILIAL = '02';\n",
                "SET @CHAVE = '29200206088039000865550010000000021100309190'\n",
                "GO"
            ]
        },
        {
            "cell_type": "code",
            "execution_count": null,
            "metadata": {
                "azdata_cell_guid": "4f4e9220-1f3b-4dc5-841b-68d3b3e843e2"
            },
            "outputs": [],
            "source": [
                "SELECT * FROM SF1020 WHERE F1_DOC = @NOTA AND F1_FILIAL = @FILIAL;\n",
                "SELECT * FROM SD1020 WHERE D1_DOC = @NOTA AND D1_FILIAL = @FILIAL;\n",
                "SELECT * FROM CD2020 WHERE CD2_DOC = @NOTA AND CD2_FILIAL = @FILIAL;\n",
                "SELECT * FROM SE2020 WHERE E2_NUM = @NOTA AND E2_FILIAL = @FILIAL;\n",
                "SELECT F3_OBSERV, * FROM SF3020 WHERE F3_NFISCAL = @NOTA AND F3_FILIAL = @FILIAL;\n",
                "SELECT FT_OBSERV, * FROM SFT020 WHERE FT_NFISCAL = @NOTA AND FT_FILIAL = @FILIAL"
            ]
        },
        {
            "cell_type": "markdown",
            "metadata": {
                "azdata_cell_guid": "e991560c-3d54-454d-9703-e6b19096ca9e"
            },
            "source": [
                "<span style=\"color: #608b4e;\">## CONSULTAR NOTA DE SAIDA</span>"
            ]
        },
        {
            "cell_type": "code",
            "execution_count": null,
            "metadata": {
                "azdata_cell_guid": "a5a23f26-ae12-42b1-9d54-bd6aab435704"
            },
            "outputs": [],
            "source": [
                "SELECT * FROM SF2020 WHERE F2_DOC = @NOTA AND F2_FILIAL = @FILIAL;\n",
                "SELECT * FROM SD2020 WHERE D2_DOC = @NOTA AND D2_FILIAL = @FILIAL;\n",
                "SELECT * FROM CD2020 WHERE CD2_DOC = @NOTA AND CD2_FILIAL = @FILIAL;\n",
                "SELECT * FROM SE1020 WHERE E1_NUM = @NOTA AND E1_FILIAL = @FILIAL;\n",
                "SELECT F3_OBSERV, * FROM SF3020 WHERE F3_NFISCAL = @NOTA AND F3_FILIAL = @FILIAL;\n",
                "SELECT FT_OBSERV, * FROM SFT020 WHERE FT_NFISCAL = @NOTA AND FT_FILIAL = @FILIAL"
            ]
        },
        {
            "cell_type": "markdown",
            "metadata": {
                "azdata_cell_guid": "a4540f25-7148-4b09-aef1-b66a089558bf"
            },
            "source": [
                "<span style=\"color: #608b4e;\"># VOLTAR NOTA EXCLUIDA</span>\n",
                "\n",
                "<span style=\"color: #608b4e;\">## CONSULTA</span>"
            ]
        },
        {
            "cell_type": "code",
            "execution_count": null,
            "metadata": {
                "azdata_cell_guid": "d3b3178b-fc9c-40ad-91d3-27eefb008817"
            },
            "outputs": [],
            "source": [
                "SELECT * FROM SF2020 WHERE F2_DOC = @NOTA AND F2_FILIAL = @FILIAL;\n",
                "SELECT * FROM SD2020 WHERE D2_DOC = @NOTA AND D2_FILIAL = @FILIAL;\n",
                "SELECT * FROM CD2020 WHERE CD2_DOC = @NOTA AND CD2_FILIAL = @FILIAL;\n",
                "SELECT * FROM SE1020 WHERE E1_NUM = @NOTA AND E1_FILIAL = @FILIAL;\n",
                "SELECT F3_OBSERV, * FROM SF3020 WHERE F3_NFISCAL = @NOTA AND F3_FILIAL = @FILIAL;\n",
                "SELECT FT_OBSERV, * FROM SFT020 WHERE FT_NFISCAL = @NOTA AND FT_FILIAL = @FILIAL;\n",
                "GO"
            ]
        },
        {
            "cell_type": "code",
            "execution_count": null,
            "metadata": {
                "azdata_cell_guid": "62fe0d62-5c51-4320-bfbd-21bd13d52767",
                "tags": []
            },
            "outputs": [],
            "source": [
                "USE TOTVSSPED\n",
                "SELECT * FROM SPED054 WHERE NFE_ID = '1  000012746' AND NFE_CHV = @CHAVE;\n",
                "SELECT * FROM SPED050 WHERE NFE_ID = '1  000012746' AND DOC_CHV = @CHAVE;\n",
                "GO"
            ]
        },
        {
            "cell_type": "markdown",
            "metadata": {
                "azdata_cell_guid": "eb990c88-46c4-4ce6-bd42-f5a61b938a8e"
            },
            "source": [
                "# <span style=\"color: rgb(96, 139, 78); font-family: Menlo, Monaco, &quot;Courier New&quot;, monospace; font-size: 12px; white-space: pre;\">## ATUALIZAÇÃO</span>\n",
                "\n",
                "<span style=\"color: #608b4e;\">### Altere o status da nota de cancelado (7) para NFe autorizada (6) na tabela Sped050.</span>\n",
                "\n",
                "<span style=\"color: #608b4e;\">### Altere o StatusCanc NFe com falha de cancelamento (3) para Zero (0) na tabela Sped050</span>\n",
                "\n",
                "<span style=\"color: #608b4e;\">### Limpar o campo F3_OBSERV (NF CANCELADA)</span>\n",
                "\n",
                "<span style=\"color: #608b4e;\">### Limpar o campo FT_OBSERV (NF CANCELADA)</span>"
            ]
        },
        {
            "cell_type": "code",
            "execution_count": null,
            "metadata": {
                "azdata_cell_guid": "8bee402c-416a-4f63-b93f-374b7ff32547"
            },
            "outputs": [],
            "source": [
                "USE PRODUCAO\n",
                "UPDATE SF2020 SET D_E_L_E_T_ = '', R_E_C_D_E_L_ = '0' WHERE F2_DOC = @NOTA AND F2_FILIAL = @FILIAL;\n",
                "UPDATE SD2020 SET D_E_L_E_T_ = '', R_E_C_D_E_L_ = '0' WHERE D2_DOC = @NOTA AND D2_FILIAL = @FILIAL;\n",
                "UPDATE CD2020 SET D_E_L_E_T_ = '', R_E_C_D_E_L_ = '0' WHERE CD2_DOC = @NOTA AND CD2_FILIAL = @FILIAL;\n",
                "UPDATE SE1020 SET D_E_L_E_T_ = '', R_E_C_D_E_L_ = '0' WHERE E1_NUM = @NOTA AND E1_FILIAL = @FILIAL;\n",
                "UPDATE SF3020 SET F3_OBSERV = '' WHERE F3_NFISCAL = @NOTA AND F3_FILIAL = @FILIAL;\n",
                "UPDATE SFT020 SET FT_OBSERV = '' WHERE FT_NFISCAL = @NOTA AND FT_FILIAL = @FILIAL;\n",
                "GO"
            ]
        },
        {
            "cell_type": "code",
            "execution_count": null,
            "metadata": {},
            "outputs": [],
            "source": [
                "USE TOTVSSPED\n",
                "UPDATE SPED050 SET STATUSMAIL = '0' WHERE NFE_ID = '1  000000002' AND DOC_CHV = @CHAVE;\n",
                "UPDATE SPED050 SET STATUS = '6' WHERE NFE_ID = '1  000000002' AND DOC_CHV = @CHAVE;\n",
                "UPDATE SPED050 SET STATUSCANC = '0' WHERE NFE_ID = '1  000000002' AND DOC_CHV = @CHAVE;\n",
                "GO"
            ]
        }
    ],
    "metadata": {
        "kernelspec": {
            "display_name": "SQL",
            "language": "sql",
            "name": "SQL"
        },
        "language_info": {
            "name": "sql",
            "version": ""
        }
    },
    "nbformat": 4,
    "nbformat_minor": 2
}